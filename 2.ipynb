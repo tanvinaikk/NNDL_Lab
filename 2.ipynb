{
 "cells": [
  {
   "cell_type": "code",
   "execution_count": 3,
   "id": "3c677376",
   "metadata": {},
   "outputs": [],
   "source": [
    "import numpy as np"
   ]
  },
  {
   "cell_type": "code",
   "execution_count": 4,
   "id": "435afcb6",
   "metadata": {},
   "outputs": [
    {
     "name": "stdout",
     "output_type": "stream",
     "text": [
      "Input Vector:  [0 1 1]\n",
      "weight Vector:  [-1  1  1]\n"
     ]
    }
   ],
   "source": [
    "np.random.seed(seed=0)\n",
    "# Genrate random vector i, sampling from (0,1)\n",
    "I = np.random.choice([0,1], 3) \n",
    "# Generate random vector w, sampling from (-1,1)\n",
    "W = np.random.choice([-1,1], 3) \n",
    "print('Input Vector: ', I)\n",
    "print('Weight Vector: ', W)"
   ]
  },
  {
   "cell_type": "code",
   "execution_count": 5,
   "id": "547818ee",
   "metadata": {},
   "outputs": [
    {
     "name": "stdout",
     "output_type": "stream",
     "text": [
      "Dot Product:  2\n"
     ]
    }
   ],
   "source": [
    "dot = I@W\n",
    "print('Dot Product: ', dot)"
   ]
  },
  {
   "cell_type": "code",
   "execution_count": 7,
   "id": "55c5dfe8",
   "metadata": {},
   "outputs": [],
   "source": [
    "def linear_threshold_gate(dot:int, T:float)-> int:\n",
    "    ''' Returns the binary threshold output '''\n",
    "    if dot >= T:\n",
    "        return 1\n",
    "    else:\n",
    "        return 0"
   ]
  },
  {
   "cell_type": "code",
   "execution_count": 8,
   "id": "a5c9a05d",
   "metadata": {},
   "outputs": [
    {
     "name": "stdout",
     "output_type": "stream",
     "text": [
      "Activation:  1\n"
     ]
    }
   ],
   "source": [
    "T = 1\n",
    "activation = linear_threshold_gate(dot, T)\n",
    "print('Activation: ', activation)"
   ]
  },
  {
   "cell_type": "code",
   "execution_count": 9,
   "id": "6cd25714",
   "metadata": {},
   "outputs": [
    {
     "name": "stdout",
     "output_type": "stream",
     "text": [
      "Activation:  0\n"
     ]
    }
   ],
   "source": [
    "T = 3\n",
    "activation = linear_threshold_gate(dot, T)\n",
    "print('Activation: ', activation)"
   ]
  },
  {
   "cell_type": "code",
   "execution_count": 10,
   "id": "90434cb6",
   "metadata": {},
   "outputs": [
    {
     "name": "stdout",
     "output_type": "stream",
     "text": [
      "Input Table for AND Gate:\n",
      " [[0 0]\n",
      " [0 1]\n",
      " [1 0]\n",
      " [1 1]]\n"
     ]
    }
   ],
   "source": [
    "input_table = np.array([[0,0],[0,1],[1,0],[1,1]])\n",
    "print('Input Table for AND Gate:\\n', input_table)"
   ]
  },
  {
   "cell_type": "code",
   "execution_count": 11,
   "id": "0ab16147",
   "metadata": {},
   "outputs": [
    {
     "name": "stdout",
     "output_type": "stream",
     "text": [
      "[1 1]\n"
     ]
    }
   ],
   "source": [
    "weights = np.array([1,1])\n",
    "print(weights)"
   ]
  },
  {
   "cell_type": "code",
   "execution_count": 13,
   "id": "c30d6e69",
   "metadata": {},
   "outputs": [
    {
     "name": "stdout",
     "output_type": "stream",
     "text": [
      "Dot Product:  [0 1 1 2]\n"
     ]
    }
   ],
   "source": [
    "dot_products = input_table@weights\n",
    "print('Dot Product: ', dot_products)"
   ]
  },
  {
   "cell_type": "code",
   "execution_count": 15,
   "id": "4fd60469",
   "metadata": {},
   "outputs": [
    {
     "name": "stdout",
     "output_type": "stream",
     "text": [
      "Activation:  0\n",
      "Activation:  0\n",
      "Activation:  0\n",
      "Activation:  1\n"
     ]
    }
   ],
   "source": [
    "T = 2\n",
    "for i in range (0,4):\n",
    "    activation = linear_threshold_gate(dot_products[i], T)\n",
    "    print('Activation: ', activation)    "
   ]
  },
  {
   "cell_type": "code",
   "execution_count": 16,
   "id": "6e77071c",
   "metadata": {},
   "outputs": [
    {
     "name": "stdout",
     "output_type": "stream",
     "text": [
      "Activation:  0\n",
      "Activation:  1\n",
      "Activation:  1\n",
      "Activation:  1\n"
     ]
    }
   ],
   "source": [
    "T = 1\n",
    "for i in range (0,4):\n",
    "    activation = linear_threshold_gate(dot_products[i], T)\n",
    "    print('Activation: ', activation) "
   ]
  },
  {
   "cell_type": "code",
   "execution_count": 17,
   "id": "d046b7f0",
   "metadata": {},
   "outputs": [
    {
     "name": "stdout",
     "output_type": "stream",
     "text": [
      "Weights:  [-1 -1]\n"
     ]
    }
   ],
   "source": [
    "weights = np.array([-1,-1])\n",
    "print('Weights: ', weights)"
   ]
  },
  {
   "cell_type": "code",
   "execution_count": 18,
   "id": "2a0fc62b",
   "metadata": {},
   "outputs": [
    {
     "name": "stdout",
     "output_type": "stream",
     "text": [
      "Dot_Product:  [ 0 -1 -1 -2]\n"
     ]
    }
   ],
   "source": [
    "dot_products = input_table@weights\n",
    "print('Dot_Product: ', dot_products)"
   ]
  },
  {
   "cell_type": "code",
   "execution_count": 19,
   "id": "129e0a4a",
   "metadata": {},
   "outputs": [
    {
     "name": "stdout",
     "output_type": "stream",
     "text": [
      "Activation:  1\n",
      "Activation:  0\n",
      "Activation:  0\n",
      "Activation:  0\n"
     ]
    }
   ],
   "source": [
    "T = 0\n",
    "for i in range (0,4):\n",
    "    activation = linear_threshold_gate(dot_products[i], T)\n",
    "    print('Activation: ', activation) "
   ]
  },
  {
   "cell_type": "code",
   "execution_count": null,
   "id": "dbf8264f",
   "metadata": {},
   "outputs": [],
   "source": []
  }
 ],
 "metadata": {
  "kernelspec": {
   "display_name": "Python 3 (ipykernel)",
   "language": "python",
   "name": "python3"
  },
  "language_info": {
   "codemirror_mode": {
    "name": "ipython",
    "version": 3
   },
   "file_extension": ".py",
   "mimetype": "text/x-python",
   "name": "python",
   "nbconvert_exporter": "python",
   "pygments_lexer": "ipython3",
   "version": "3.9.13"
  }
 },
 "nbformat": 4,
 "nbformat_minor": 5
}
