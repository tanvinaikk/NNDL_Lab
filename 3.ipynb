{
 "cells": [
  {
   "cell_type": "code",
   "execution_count": 1,
   "id": "b481180d",
   "metadata": {},
   "outputs": [],
   "source": [
    "import numpy as np\n",
    "import pandas as pd"
   ]
  },
  {
   "cell_type": "code",
   "execution_count": 2,
   "id": "64061e34",
   "metadata": {},
   "outputs": [
    {
     "name": "stdout",
     "output_type": "stream",
     "text": [
      "[ 1.  -1.   0.   0.5]\n",
      "[array([ 1. , -2. ,  1.5,  0. ]), array([ 1. , -0.5, -2. , -1.5]), array([ 0. ,  1. , -1. ,  1.5])]\n"
     ]
    }
   ],
   "source": [
    "W = np.array([1, -1, 0, 0.5]).transpose()\n",
    "Xi = [np.array([1, -2, 1.5, 0]).transpose(), np.array([1, -0.5, -2, -1.5]).transpose(), np.array([0, 1, -1, 1.5]).transpose()]\n",
    "c = 1\n",
    "Iteration = 0\n",
    "print(W)\n",
    "print(Xi)"
   ]
  },
  {
   "cell_type": "code",
   "execution_count": 3,
   "id": "ea37d4fa",
   "metadata": {},
   "outputs": [
    {
     "name": "stdout",
     "output_type": "stream",
     "text": [
      "Weight Vector for this Iteration:  [ 2.  -3.   1.5  0.5]\n",
      "Weight Vector for this Iteration:  [ 1.  -2.5  3.5  2. ]\n",
      "Weight Vector for this Iteration:  [ 1.  -3.5  4.5  0.5]\n"
     ]
    }
   ],
   "source": [
    "for i in range (len(Xi)):\n",
    "    net = sum(W.transpose()*Xi[i])\n",
    "    Fnet = np.sign(net)\n",
    "    dw = c*Fnet*Xi[i]\n",
    "    W = W + dw\n",
    "    print('Weight Vector for this Iteration: ', W)\n",
    "    Iteration += 1"
   ]
  },
  {
   "cell_type": "code",
   "execution_count": 4,
   "id": "0fb9ee50",
   "metadata": {},
   "outputs": [
    {
     "name": "stdout",
     "output_type": "stream",
     "text": [
      "Final Weight Matrix:  [ 1.  -3.5  4.5  0.5]\n",
      "Number of Iteration:  3\n"
     ]
    }
   ],
   "source": [
    "print('Final Weight Matrix: ', W)\n",
    "print('Number of Iteration: ', Iteration)"
   ]
  },
  {
   "cell_type": "code",
   "execution_count": null,
   "id": "95ef7209",
   "metadata": {},
   "outputs": [],
   "source": []
  }
 ],
 "metadata": {
  "kernelspec": {
   "display_name": "Python 3 (ipykernel)",
   "language": "python",
   "name": "python3"
  },
  "language_info": {
   "codemirror_mode": {
    "name": "ipython",
    "version": 3
   },
   "file_extension": ".py",
   "mimetype": "text/x-python",
   "name": "python",
   "nbconvert_exporter": "python",
   "pygments_lexer": "ipython3",
   "version": "3.9.13"
  }
 },
 "nbformat": 4,
 "nbformat_minor": 5
}
