{
 "cells": [
  {
   "cell_type": "code",
   "execution_count": 4,
   "id": "b6bc1ec0",
   "metadata": {},
   "outputs": [],
   "source": [
    "import numpy as np\n",
    "import pandas as pd\n",
    "import sympy"
   ]
  },
  {
   "cell_type": "code",
   "execution_count": 5,
   "id": "830793b9",
   "metadata": {},
   "outputs": [
    {
     "name": "stdout",
     "output_type": "stream",
     "text": [
      "[ 1.  -1.   0.   0.5]\n",
      "[array([ 1, -2,  0, -1]), array([ 0. ,  1.5, -0.5, -1. ]), array([-1. ,  1. ,  0.5, -1. ])]\n",
      "[-1, -1, 1]\n"
     ]
    }
   ],
   "source": [
    "W = np.array([1, -1, 0, 0.5]).transpose()\n",
    "Xi = [np.array([1, -2, 0, -1]).transpose(), np.array([0, 1.5, -0.5, -1]).transpose(), np.array([-1, 1, 0.5, -1]).transpose()]\n",
    "c = 0.1\n",
    "d = [-1, -1, 1]\n",
    "i = 0\n",
    "print(W)\n",
    "print(Xi)\n",
    "print(d)"
   ]
  },
  {
   "cell_type": "code",
   "execution_count": 6,
   "id": "33e7c987",
   "metadata": {},
   "outputs": [
    {
     "name": "stdout",
     "output_type": "stream",
     "text": [
      "2*exp(-x)/(1 + exp(-x))**2\n",
      "Aggregation Output:  2.5\n",
      "0.848\n",
      "0.140\n",
      "Weight Vector for this Iteration:  [0.974085689521892 -0.948171379043783 0 0.525914310478108]\n",
      "Aggregation Output:  -1.948\n",
      "-0.750\n",
      "0.218\n",
      "Weight Vector for this Iteration:  [0.974085689521892 -0.956344410130361 0.00272434369552599\n",
      " 0.531362997869160]\n",
      "Aggregation Output:  -2.460\n",
      "-0.843\n",
      "0.145\n",
      "Weight Vector for this Iteration:  [0.947371549694924 -0.929630270303393 0.0160814136090099 0.504648858042193]\n"
     ]
    }
   ],
   "source": [
    "x = sympy.Symbol('x')\n",
    "y = ((2 / (1 + sympy.exp(-x))) - 1)\n",
    "yprime = y.diff(x)\n",
    "print(yprime)\n",
    "for i in range (len(Xi)):\n",
    "    net = sum(W.transpose()*Xi[i])\n",
    "    print('Aggregation Output: ', round(net, 3))\n",
    "    o = y.subs(x, net).evalf()\n",
    "    print(round(o, 3))\n",
    "    fDashNet_value = yprime.subs(x, net).evalf()\n",
    "    print(round(fDashNet_value, 3))\n",
    "    dw = c * (d[i] - o) * Xi[i] * fDashNet_value\n",
    "    W = W + dw\n",
    "    print('Weight Vector for this Iteration: ', W)  \n",
    "    i += 1"
   ]
  },
  {
   "cell_type": "code",
   "execution_count": null,
   "id": "67b8128d",
   "metadata": {},
   "outputs": [],
   "source": []
  },
  {
   "cell_type": "code",
   "execution_count": null,
   "id": "d0222a06",
   "metadata": {},
   "outputs": [],
   "source": []
  }
 ],
 "metadata": {
  "kernelspec": {
   "display_name": "Python 3 (ipykernel)",
   "language": "python",
   "name": "python3"
  },
  "language_info": {
   "codemirror_mode": {
    "name": "ipython",
    "version": 3
   },
   "file_extension": ".py",
   "mimetype": "text/x-python",
   "name": "python",
   "nbconvert_exporter": "python",
   "pygments_lexer": "ipython3",
   "version": "3.9.13"
  }
 },
 "nbformat": 4,
 "nbformat_minor": 5
}
