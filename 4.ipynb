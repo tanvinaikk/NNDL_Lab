{
 "cells": [
  {
   "cell_type": "code",
   "execution_count": 1,
   "id": "4bd14c24",
   "metadata": {},
   "outputs": [],
   "source": [
    "import numpy as np\n",
    "import pandas as pd"
   ]
  },
  {
   "cell_type": "code",
   "execution_count": 2,
   "id": "555738ea",
   "metadata": {},
   "outputs": [
    {
     "name": "stdout",
     "output_type": "stream",
     "text": [
      "[ 1.  -1.   0.   0.5]\n",
      "[array([ 1, -2,  0, -1]), array([ 0. ,  1.5, -0.5, -1. ]), array([-1. ,  1. ,  0.5, -1. ])]\n",
      "[-1, -1, 1]\n"
     ]
    }
   ],
   "source": [
    "W = np.array([1, -1, 0, 0.5]).transpose()\n",
    "Xi = [np.array([1, -2, 0, -1]).transpose(), np.array([0, 1.5, -0.5, -1]).transpose(), np.array([-1, 1, 0.5, -1]).transpose()]\n",
    "c = 0.1\n",
    "d = [-1, -1, 1]\n",
    "i = 0\n",
    "print(W)\n",
    "print(Xi)\n",
    "print(d)"
   ]
  },
  {
   "cell_type": "code",
   "execution_count": 3,
   "id": "c28d7773",
   "metadata": {},
   "outputs": [
    {
     "name": "stdout",
     "output_type": "stream",
     "text": [
      "Aggregation Output:  2.5\n",
      "Weight Vector for this Iteration:  [ 0.8 -0.6  0.   0.7]\n",
      "Aggregation Output:  -1.5999999999999999\n",
      "No need of updation of weights\n",
      "Aggregation Output:  -2.0999999999999996\n",
      "Weight Vector for this Iteration:  [ 0.6 -0.4  0.1  0.5]\n"
     ]
    }
   ],
   "source": [
    "for i in range (len(Xi)):\n",
    "    net = sum(W.transpose()*Xi[i])\n",
    "    print('Aggregation Output: ', net)\n",
    "    o = np.sign(net)\n",
    "    if o == d[i]:\n",
    "        print('No need of updation of weights')\n",
    "    else:\n",
    "        dw = c * (d[i] - o) * Xi[i]\n",
    "        W = W + dw\n",
    "        print('Weight Vector for this Iteration: ', W)\n",
    "    \n",
    "    i += 1"
   ]
  },
  {
   "cell_type": "code",
   "execution_count": null,
   "id": "a17b216b",
   "metadata": {},
   "outputs": [],
   "source": []
  }
 ],
 "metadata": {
  "kernelspec": {
   "display_name": "Python 3 (ipykernel)",
   "language": "python",
   "name": "python3"
  },
  "language_info": {
   "codemirror_mode": {
    "name": "ipython",
    "version": 3
   },
   "file_extension": ".py",
   "mimetype": "text/x-python",
   "name": "python",
   "nbconvert_exporter": "python",
   "pygments_lexer": "ipython3",
   "version": "3.9.13"
  }
 },
 "nbformat": 4,
 "nbformat_minor": 5
}
